{
 "cells": [
  {
   "cell_type": "code",
   "execution_count": 1,
   "id": "3033addf",
   "metadata": {},
   "outputs": [],
   "source": [
    "import pandas as pd \n",
    "import matplotlib.pyplot as plt\n",
    "import seaborn as sns\n",
    "import numpy as np\n",
    "get_ipython().run_line_magic('matplotlib','inline')"
   ]
  },
  {
   "cell_type": "code",
   "execution_count": 4,
   "id": "f391db41",
   "metadata": {},
   "outputs": [
    {
     "data": {
      "text/html": [
       "<div>\n",
       "<style scoped>\n",
       "    .dataframe tbody tr th:only-of-type {\n",
       "        vertical-align: middle;\n",
       "    }\n",
       "\n",
       "    .dataframe tbody tr th {\n",
       "        vertical-align: top;\n",
       "    }\n",
       "\n",
       "    .dataframe thead th {\n",
       "        text-align: right;\n",
       "    }\n",
       "</style>\n",
       "<table border=\"1\" class=\"dataframe\">\n",
       "  <thead>\n",
       "    <tr style=\"text-align: right;\">\n",
       "      <th></th>\n",
       "      <th>region</th>\n",
       "      <th>country</th>\n",
       "      <th>country_code</th>\n",
       "      <th>age_group</th>\n",
       "      <th>age_lower</th>\n",
       "      <th>age_upper</th>\n",
       "      <th>pop_date</th>\n",
       "      <th>pop_male</th>\n",
       "      <th>pop_female</th>\n",
       "      <th>pop_both</th>\n",
       "    </tr>\n",
       "  </thead>\n",
       "  <tbody>\n",
       "    <tr>\n",
       "      <th>0</th>\n",
       "      <td>Europe</td>\n",
       "      <td>Austria</td>\n",
       "      <td>AUT</td>\n",
       "      <td>'0-4</td>\n",
       "      <td>0.0</td>\n",
       "      <td>4.0</td>\n",
       "      <td>2019-01-01</td>\n",
       "      <td>224072</td>\n",
       "      <td>211061</td>\n",
       "      <td>435133</td>\n",
       "    </tr>\n",
       "    <tr>\n",
       "      <th>1</th>\n",
       "      <td>Europe</td>\n",
       "      <td>Austria</td>\n",
       "      <td>AUT</td>\n",
       "      <td>'5-14</td>\n",
       "      <td>5.0</td>\n",
       "      <td>14.0</td>\n",
       "      <td>2019-01-01</td>\n",
       "      <td>433500</td>\n",
       "      <td>410059</td>\n",
       "      <td>843559</td>\n",
       "    </tr>\n",
       "    <tr>\n",
       "      <th>2</th>\n",
       "      <td>Europe</td>\n",
       "      <td>Austria</td>\n",
       "      <td>AUT</td>\n",
       "      <td>'15-24</td>\n",
       "      <td>15.0</td>\n",
       "      <td>24.0</td>\n",
       "      <td>2019-01-01</td>\n",
       "      <td>500178</td>\n",
       "      <td>469589</td>\n",
       "      <td>969767</td>\n",
       "    </tr>\n",
       "    <tr>\n",
       "      <th>3</th>\n",
       "      <td>Europe</td>\n",
       "      <td>Austria</td>\n",
       "      <td>AUT</td>\n",
       "      <td>'25-34</td>\n",
       "      <td>25.0</td>\n",
       "      <td>34.0</td>\n",
       "      <td>2019-01-01</td>\n",
       "      <td>615441</td>\n",
       "      <td>591433</td>\n",
       "      <td>1206874</td>\n",
       "    </tr>\n",
       "    <tr>\n",
       "      <th>4</th>\n",
       "      <td>Europe</td>\n",
       "      <td>Austria</td>\n",
       "      <td>AUT</td>\n",
       "      <td>'35-44</td>\n",
       "      <td>35.0</td>\n",
       "      <td>44.0</td>\n",
       "      <td>2019-01-01</td>\n",
       "      <td>585813</td>\n",
       "      <td>580801</td>\n",
       "      <td>1166614</td>\n",
       "    </tr>\n",
       "    <tr>\n",
       "      <th>...</th>\n",
       "      <td>...</td>\n",
       "      <td>...</td>\n",
       "      <td>...</td>\n",
       "      <td>...</td>\n",
       "      <td>...</td>\n",
       "      <td>...</td>\n",
       "      <td>...</td>\n",
       "      <td>...</td>\n",
       "      <td>...</td>\n",
       "      <td>...</td>\n",
       "    </tr>\n",
       "    <tr>\n",
       "      <th>793</th>\n",
       "      <td>Asia</td>\n",
       "      <td>Japan</td>\n",
       "      <td>JPN</td>\n",
       "      <td>'60-69</td>\n",
       "      <td>60.0</td>\n",
       "      <td>69.0</td>\n",
       "      <td>2021-10-01</td>\n",
       "      <td>7478079</td>\n",
       "      <td>7782324</td>\n",
       "      <td>15260403</td>\n",
       "    </tr>\n",
       "    <tr>\n",
       "      <th>794</th>\n",
       "      <td>Asia</td>\n",
       "      <td>Japan</td>\n",
       "      <td>JPN</td>\n",
       "      <td>'70-79</td>\n",
       "      <td>70.0</td>\n",
       "      <td>79.0</td>\n",
       "      <td>2021-10-01</td>\n",
       "      <td>7555827</td>\n",
       "      <td>8828023</td>\n",
       "      <td>16383850</td>\n",
       "    </tr>\n",
       "    <tr>\n",
       "      <th>795</th>\n",
       "      <td>Asia</td>\n",
       "      <td>Japan</td>\n",
       "      <td>JPN</td>\n",
       "      <td>'80-89</td>\n",
       "      <td>80.0</td>\n",
       "      <td>89.0</td>\n",
       "      <td>2021-10-01</td>\n",
       "      <td>3697701</td>\n",
       "      <td>5737198</td>\n",
       "      <td>9434899</td>\n",
       "    </tr>\n",
       "    <tr>\n",
       "      <th>796</th>\n",
       "      <td>Asia</td>\n",
       "      <td>Japan</td>\n",
       "      <td>JPN</td>\n",
       "      <td>'90+</td>\n",
       "      <td>90.0</td>\n",
       "      <td>NaN</td>\n",
       "      <td>2021-10-01</td>\n",
       "      <td>645020</td>\n",
       "      <td>1881459</td>\n",
       "      <td>2526479</td>\n",
       "    </tr>\n",
       "    <tr>\n",
       "      <th>797</th>\n",
       "      <td>Asia</td>\n",
       "      <td>Japan</td>\n",
       "      <td>JPN</td>\n",
       "      <td>'Total</td>\n",
       "      <td>NaN</td>\n",
       "      <td>NaN</td>\n",
       "      <td>2021-10-01</td>\n",
       "      <td>61019059</td>\n",
       "      <td>64483231</td>\n",
       "      <td>125502290</td>\n",
       "    </tr>\n",
       "  </tbody>\n",
       "</table>\n",
       "<p>798 rows × 10 columns</p>\n",
       "</div>"
      ],
      "text/plain": [
       "     region  country country_code age_group  age_lower  age_upper    pop_date  \\\n",
       "0    Europe  Austria          AUT      '0-4        0.0        4.0  2019-01-01   \n",
       "1    Europe  Austria          AUT     '5-14        5.0       14.0  2019-01-01   \n",
       "2    Europe  Austria          AUT    '15-24       15.0       24.0  2019-01-01   \n",
       "3    Europe  Austria          AUT    '25-34       25.0       34.0  2019-01-01   \n",
       "4    Europe  Austria          AUT    '35-44       35.0       44.0  2019-01-01   \n",
       "..      ...      ...          ...       ...        ...        ...         ...   \n",
       "793    Asia    Japan          JPN    '60-69       60.0       69.0  2021-10-01   \n",
       "794    Asia    Japan          JPN    '70-79       70.0       79.0  2021-10-01   \n",
       "795    Asia    Japan          JPN    '80-89       80.0       89.0  2021-10-01   \n",
       "796    Asia    Japan          JPN      '90+       90.0        NaN  2021-10-01   \n",
       "797    Asia    Japan          JPN    'Total        NaN        NaN  2021-10-01   \n",
       "\n",
       "     pop_male  pop_female   pop_both  \n",
       "0      224072      211061     435133  \n",
       "1      433500      410059     843559  \n",
       "2      500178      469589     969767  \n",
       "3      615441      591433    1206874  \n",
       "4      585813      580801    1166614  \n",
       "..        ...         ...        ...  \n",
       "793   7478079     7782324   15260403  \n",
       "794   7555827     8828023   16383850  \n",
       "795   3697701     5737198    9434899  \n",
       "796    645020     1881459    2526479  \n",
       "797  61019059    64483231  125502290  \n",
       "\n",
       "[798 rows x 10 columns]"
      ]
     },
     "execution_count": 4,
     "metadata": {},
     "output_type": "execute_result"
    }
   ],
   "source": [
    "data=pd.read_csv('Population.csv',encoding=\"unicode_escape\")\n",
    "data"
   ]
  },
  {
   "cell_type": "code",
   "execution_count": 5,
   "id": "67dd52d8",
   "metadata": {},
   "outputs": [
    {
     "name": "stdout",
     "output_type": "stream",
     "text": [
      "<class 'pandas.core.frame.DataFrame'>\n",
      "RangeIndex: 798 entries, 0 to 797\n",
      "Data columns (total 10 columns):\n",
      " #   Column        Non-Null Count  Dtype  \n",
      "---  ------        --------------  -----  \n",
      " 0   region        798 non-null    object \n",
      " 1   country       798 non-null    object \n",
      " 2   country_code  798 non-null    object \n",
      " 3   age_group     798 non-null    object \n",
      " 4   age_lower     729 non-null    float64\n",
      " 5   age_upper     660 non-null    float64\n",
      " 6   pop_date      798 non-null    object \n",
      " 7   pop_male      798 non-null    int64  \n",
      " 8   pop_female    798 non-null    int64  \n",
      " 9   pop_both      798 non-null    int64  \n",
      "dtypes: float64(2), int64(3), object(5)\n",
      "memory usage: 62.5+ KB\n"
     ]
    }
   ],
   "source": [
    "data.info()"
   ]
  },
  {
   "cell_type": "code",
   "execution_count": 7,
   "id": "6e9eac2c",
   "metadata": {},
   "outputs": [],
   "source": [
    "data[data[\"age_lower\"]<=0]=1"
   ]
  },
  {
   "cell_type": "code",
   "execution_count": 8,
   "id": "51fb0131",
   "metadata": {},
   "outputs": [
    {
     "data": {
      "text/html": [
       "<div>\n",
       "<style scoped>\n",
       "    .dataframe tbody tr th:only-of-type {\n",
       "        vertical-align: middle;\n",
       "    }\n",
       "\n",
       "    .dataframe tbody tr th {\n",
       "        vertical-align: top;\n",
       "    }\n",
       "\n",
       "    .dataframe thead th {\n",
       "        text-align: right;\n",
       "    }\n",
       "</style>\n",
       "<table border=\"1\" class=\"dataframe\">\n",
       "  <thead>\n",
       "    <tr style=\"text-align: right;\">\n",
       "      <th></th>\n",
       "      <th>region</th>\n",
       "      <th>country</th>\n",
       "      <th>country_code</th>\n",
       "      <th>age_group</th>\n",
       "      <th>age_lower</th>\n",
       "      <th>age_upper</th>\n",
       "      <th>pop_date</th>\n",
       "      <th>pop_male</th>\n",
       "      <th>pop_female</th>\n",
       "      <th>pop_both</th>\n",
       "    </tr>\n",
       "  </thead>\n",
       "  <tbody>\n",
       "  </tbody>\n",
       "</table>\n",
       "</div>"
      ],
      "text/plain": [
       "Empty DataFrame\n",
       "Columns: [region, country, country_code, age_group, age_lower, age_upper, pop_date, pop_male, pop_female, pop_both]\n",
       "Index: []"
      ]
     },
     "execution_count": 8,
     "metadata": {},
     "output_type": "execute_result"
    }
   ],
   "source": [
    "data[data[\"age_lower\"]<=0]"
   ]
  },
  {
   "cell_type": "code",
   "execution_count": 24,
   "id": "b4cf7b30",
   "metadata": {},
   "outputs": [
    {
     "data": {
      "text/html": [
       "<div>\n",
       "<style scoped>\n",
       "    .dataframe tbody tr th:only-of-type {\n",
       "        vertical-align: middle;\n",
       "    }\n",
       "\n",
       "    .dataframe tbody tr th {\n",
       "        vertical-align: top;\n",
       "    }\n",
       "\n",
       "    .dataframe thead th {\n",
       "        text-align: right;\n",
       "    }\n",
       "</style>\n",
       "<table border=\"1\" class=\"dataframe\">\n",
       "  <thead>\n",
       "    <tr style=\"text-align: right;\">\n",
       "      <th></th>\n",
       "      <th>region</th>\n",
       "      <th>country</th>\n",
       "      <th>country_code</th>\n",
       "      <th>age_group</th>\n",
       "      <th>age_lower</th>\n",
       "      <th>age_upper</th>\n",
       "      <th>pop_date</th>\n",
       "      <th>pop_male</th>\n",
       "      <th>pop_female</th>\n",
       "      <th>pop_both</th>\n",
       "    </tr>\n",
       "  </thead>\n",
       "  <tbody>\n",
       "    <tr>\n",
       "      <th>10</th>\n",
       "      <td>Europe</td>\n",
       "      <td>Austria</td>\n",
       "      <td>AUT</td>\n",
       "      <td>'Total</td>\n",
       "      <td>NaN</td>\n",
       "      <td>NaN</td>\n",
       "      <td>2019-01-01</td>\n",
       "      <td>4357033</td>\n",
       "      <td>4501742</td>\n",
       "      <td>8858775</td>\n",
       "    </tr>\n",
       "    <tr>\n",
       "      <th>21</th>\n",
       "      <td>Europe</td>\n",
       "      <td>Austria</td>\n",
       "      <td>AUT</td>\n",
       "      <td>'Total</td>\n",
       "      <td>NaN</td>\n",
       "      <td>NaN</td>\n",
       "      <td>2020-01-01</td>\n",
       "      <td>4378772</td>\n",
       "      <td>4522292</td>\n",
       "      <td>8901064</td>\n",
       "    </tr>\n",
       "    <tr>\n",
       "      <th>32</th>\n",
       "      <td>Europe</td>\n",
       "      <td>Austria</td>\n",
       "      <td>AUT</td>\n",
       "      <td>'Total</td>\n",
       "      <td>NaN</td>\n",
       "      <td>NaN</td>\n",
       "      <td>2021-01-01</td>\n",
       "      <td>4396952</td>\n",
       "      <td>4535712</td>\n",
       "      <td>8932664</td>\n",
       "    </tr>\n",
       "    <tr>\n",
       "      <th>43</th>\n",
       "      <td>Europe</td>\n",
       "      <td>Austria</td>\n",
       "      <td>AUT</td>\n",
       "      <td>'Total</td>\n",
       "      <td>NaN</td>\n",
       "      <td>NaN</td>\n",
       "      <td>2022-01-01</td>\n",
       "      <td>4425485</td>\n",
       "      <td>4553444</td>\n",
       "      <td>8978929</td>\n",
       "    </tr>\n",
       "    <tr>\n",
       "      <th>50</th>\n",
       "      <td>Europe</td>\n",
       "      <td>Belgium</td>\n",
       "      <td>BEL</td>\n",
       "      <td>'Total</td>\n",
       "      <td>NaN</td>\n",
       "      <td>NaN</td>\n",
       "      <td>2020-01-01</td>\n",
       "      <td>5660064</td>\n",
       "      <td>5832577</td>\n",
       "      <td>11492641</td>\n",
       "    </tr>\n",
       "    <tr>\n",
       "      <th>...</th>\n",
       "      <td>...</td>\n",
       "      <td>...</td>\n",
       "      <td>...</td>\n",
       "      <td>...</td>\n",
       "      <td>...</td>\n",
       "      <td>...</td>\n",
       "      <td>...</td>\n",
       "      <td>...</td>\n",
       "      <td>...</td>\n",
       "      <td>...</td>\n",
       "    </tr>\n",
       "    <tr>\n",
       "      <th>743</th>\n",
       "      <td>Europe</td>\n",
       "      <td>England &amp; Wales</td>\n",
       "      <td>EAW</td>\n",
       "      <td>'Total</td>\n",
       "      <td>NaN</td>\n",
       "      <td>NaN</td>\n",
       "      <td>2019-06-30</td>\n",
       "      <td>29382509</td>\n",
       "      <td>30057331</td>\n",
       "      <td>59439840</td>\n",
       "    </tr>\n",
       "    <tr>\n",
       "      <th>764</th>\n",
       "      <td>Europe</td>\n",
       "      <td>England &amp; Wales</td>\n",
       "      <td>EAW</td>\n",
       "      <td>'Total</td>\n",
       "      <td>NaN</td>\n",
       "      <td>NaN</td>\n",
       "      <td>2020-06-30</td>\n",
       "      <td>29546342</td>\n",
       "      <td>30173382</td>\n",
       "      <td>59719724</td>\n",
       "    </tr>\n",
       "    <tr>\n",
       "      <th>775</th>\n",
       "      <td>Asia</td>\n",
       "      <td>Japan</td>\n",
       "      <td>JPN</td>\n",
       "      <td>'Total</td>\n",
       "      <td>NaN</td>\n",
       "      <td>NaN</td>\n",
       "      <td>2019-10-01</td>\n",
       "      <td>61411332</td>\n",
       "      <td>64755616</td>\n",
       "      <td>126166948</td>\n",
       "    </tr>\n",
       "    <tr>\n",
       "      <th>786</th>\n",
       "      <td>Asia</td>\n",
       "      <td>Japan</td>\n",
       "      <td>JPN</td>\n",
       "      <td>'Total</td>\n",
       "      <td>NaN</td>\n",
       "      <td>NaN</td>\n",
       "      <td>2020-10-01</td>\n",
       "      <td>61349581</td>\n",
       "      <td>64796518</td>\n",
       "      <td>126146099</td>\n",
       "    </tr>\n",
       "    <tr>\n",
       "      <th>797</th>\n",
       "      <td>Asia</td>\n",
       "      <td>Japan</td>\n",
       "      <td>JPN</td>\n",
       "      <td>'Total</td>\n",
       "      <td>NaN</td>\n",
       "      <td>NaN</td>\n",
       "      <td>2021-10-01</td>\n",
       "      <td>61019059</td>\n",
       "      <td>64483231</td>\n",
       "      <td>125502290</td>\n",
       "    </tr>\n",
       "  </tbody>\n",
       "</table>\n",
       "<p>69 rows × 10 columns</p>\n",
       "</div>"
      ],
      "text/plain": [
       "     region          country country_code age_group  age_lower  age_upper  \\\n",
       "10   Europe          Austria          AUT    'Total        NaN        NaN   \n",
       "21   Europe          Austria          AUT    'Total        NaN        NaN   \n",
       "32   Europe          Austria          AUT    'Total        NaN        NaN   \n",
       "43   Europe          Austria          AUT    'Total        NaN        NaN   \n",
       "50   Europe          Belgium          BEL    'Total        NaN        NaN   \n",
       "..      ...              ...          ...       ...        ...        ...   \n",
       "743  Europe  England & Wales          EAW    'Total        NaN        NaN   \n",
       "764  Europe  England & Wales          EAW    'Total        NaN        NaN   \n",
       "775    Asia            Japan          JPN    'Total        NaN        NaN   \n",
       "786    Asia            Japan          JPN    'Total        NaN        NaN   \n",
       "797    Asia            Japan          JPN    'Total        NaN        NaN   \n",
       "\n",
       "       pop_date  pop_male  pop_female   pop_both  \n",
       "10   2019-01-01   4357033     4501742    8858775  \n",
       "21   2020-01-01   4378772     4522292    8901064  \n",
       "32   2021-01-01   4396952     4535712    8932664  \n",
       "43   2022-01-01   4425485     4553444    8978929  \n",
       "50   2020-01-01   5660064     5832577   11492641  \n",
       "..          ...       ...         ...        ...  \n",
       "743  2019-06-30  29382509    30057331   59439840  \n",
       "764  2020-06-30  29546342    30173382   59719724  \n",
       "775  2019-10-01  61411332    64755616  126166948  \n",
       "786  2020-10-01  61349581    64796518  126146099  \n",
       "797  2021-10-01  61019059    64483231  125502290  \n",
       "\n",
       "[69 rows x 10 columns]"
      ]
     },
     "execution_count": 24,
     "metadata": {},
     "output_type": "execute_result"
    }
   ],
   "source": [
    "data[data[\"age_lower\"].isnull()]"
   ]
  },
  {
   "cell_type": "code",
   "execution_count": 33,
   "id": "4fee133f",
   "metadata": {},
   "outputs": [
    {
     "data": {
      "text/plain": [
       "71"
      ]
     },
     "execution_count": 33,
     "metadata": {},
     "output_type": "execute_result"
    }
   ],
   "source": [
    "data.duplicated().sum()"
   ]
  },
  {
   "cell_type": "code",
   "execution_count": 34,
   "id": "b4b83c90",
   "metadata": {},
   "outputs": [],
   "source": [
    "data=data.drop_duplicates()"
   ]
  },
  {
   "cell_type": "code",
   "execution_count": 35,
   "id": "23fc4179",
   "metadata": {},
   "outputs": [
    {
     "data": {
      "text/plain": [
       "0"
      ]
     },
     "execution_count": 35,
     "metadata": {},
     "output_type": "execute_result"
    }
   ],
   "source": [
    "data.duplicated().sum()"
   ]
  },
  {
   "cell_type": "code",
   "execution_count": 37,
   "id": "ac7d9738",
   "metadata": {},
   "outputs": [
    {
     "data": {
      "text/plain": [
       "66"
      ]
     },
     "execution_count": 37,
     "metadata": {},
     "output_type": "execute_result"
    }
   ],
   "source": [
    "data[\"age_lower\"].isnull().sum()"
   ]
  },
  {
   "cell_type": "code",
   "execution_count": 46,
   "id": "70f0f190",
   "metadata": {},
   "outputs": [
    {
     "data": {
      "text/plain": [
       "205884453"
      ]
     },
     "execution_count": 46,
     "metadata": {},
     "output_type": "execute_result"
    }
   ],
   "source": [
    "data2=data[data[\"age_upper\"]<18]\n",
    "data2[\"pop_both\"].sum()"
   ]
  },
  {
   "cell_type": "code",
   "execution_count": 48,
   "id": "39a7ffd4",
   "metadata": {},
   "outputs": [
    {
     "data": {
      "text/plain": [
       "971797141"
      ]
     },
     "execution_count": 48,
     "metadata": {},
     "output_type": "execute_result"
    }
   ],
   "source": [
    "data2=data[(data[\"age_upper\"]>18)&(data[\"age_upper\"]<40)]\n",
    "data2[\"pop_both\"].sum()"
   ]
  },
  {
   "cell_type": "code",
   "execution_count": 50,
   "id": "d137cb98",
   "metadata": {},
   "outputs": [
    {
     "data": {
      "text/plain": [
       "1824578291"
      ]
     },
     "execution_count": 50,
     "metadata": {},
     "output_type": "execute_result"
    }
   ],
   "source": [
    "data2=data[data[\"age_upper\"]>40]\n",
    "data2[\"pop_both\"].sum()"
   ]
  },
  {
   "cell_type": "code",
   "execution_count": null,
   "id": "897e6072",
   "metadata": {},
   "outputs": [],
   "source": [
    "#The group most targeted by the Coronavirus are the elderly"
   ]
  }
 ],
 "metadata": {
  "kernelspec": {
   "display_name": "Python 3 (ipykernel)",
   "language": "python",
   "name": "python3"
  },
  "language_info": {
   "codemirror_mode": {
    "name": "ipython",
    "version": 3
   },
   "file_extension": ".py",
   "mimetype": "text/x-python",
   "name": "python",
   "nbconvert_exporter": "python",
   "pygments_lexer": "ipython3",
   "version": "3.11.5"
  }
 },
 "nbformat": 4,
 "nbformat_minor": 5
}
